{
  "cells": [
    {
      "cell_type": "markdown",
      "metadata": {
        "id": "KHmoqWp0lINb"
      },
      "source": [
        "## Training the Neural Network"
      ]
    },
    {
      "cell_type": "markdown",
      "source": [
        "This Tutorial was created by C. Baumhoer and is based on work from https://github.com/mmorphew/unet_remote_sensing & https://github.com/karolzak/keras-unet\n"
      ],
      "metadata": {
        "id": "2s6zKk1zl8Qj"
      }
    },
    {
      "cell_type": "markdown",
      "source": [
        "Again, let's set up the system first.\n"
      ],
      "metadata": {
        "id": "yD3ResGdlQrw"
      }
    },
    {
      "cell_type": "code",
      "source": [
        "#import colab package and mount you accounts associated google drive\n",
        "from google.colab import drive\n",
        "drive.mount('/content/drive')\n",
        "\n",
        "%cd /content/drive/MyDrive/MET-3"
      ],
      "metadata": {
        "id": "ndonhiHXlORS",
        "colab": {
          "base_uri": "https://localhost:8080/"
        },
        "outputId": "6cc594e2-54da-47e6-c9ec-f27e235d9f11"
      },
      "execution_count": 2,
      "outputs": [
        {
          "output_type": "stream",
          "name": "stdout",
          "text": [
            "Mounted at /content/drive\n",
            "/content/drive/MyDrive/MET-3\n"
          ]
        }
      ]
    },
    {
      "cell_type": "code",
      "execution_count": 3,
      "metadata": {
        "id": "Tnw7q6NUlINi",
        "colab": {
          "base_uri": "https://localhost:8080/"
        },
        "outputId": "28c9f48f-15f4-42cb-f0ea-1e2321544334"
      },
      "outputs": [
        {
          "output_type": "stream",
          "name": "stdout",
          "text": [
            "Looking in indexes: https://pypi.org/simple, https://us-python.pkg.dev/colab-wheels/public/simple/\n",
            "Requirement already satisfied: opencv-python in /usr/local/lib/python3.7/dist-packages (4.6.0.66)\n",
            "Requirement already satisfied: matplotlib in /usr/local/lib/python3.7/dist-packages (3.2.2)\n",
            "Requirement already satisfied: scikit-image in /usr/local/lib/python3.7/dist-packages (0.18.3)\n",
            "Requirement already satisfied: tensorflow in /usr/local/lib/python3.7/dist-packages (2.8.2+zzzcolab20220719082949)\n",
            "Requirement already satisfied: keras in /usr/local/lib/python3.7/dist-packages (2.8.0)\n",
            "Requirement already satisfied: numpy>=1.14.5 in /usr/local/lib/python3.7/dist-packages (from opencv-python) (1.21.6)\n",
            "Requirement already satisfied: pyparsing!=2.0.4,!=2.1.2,!=2.1.6,>=2.0.1 in /usr/local/lib/python3.7/dist-packages (from matplotlib) (3.0.9)\n",
            "Requirement already satisfied: cycler>=0.10 in /usr/local/lib/python3.7/dist-packages (from matplotlib) (0.11.0)\n",
            "Requirement already satisfied: python-dateutil>=2.1 in /usr/local/lib/python3.7/dist-packages (from matplotlib) (2.8.2)\n",
            "Requirement already satisfied: kiwisolver>=1.0.1 in /usr/local/lib/python3.7/dist-packages (from matplotlib) (1.4.4)\n",
            "Requirement already satisfied: typing-extensions in /usr/local/lib/python3.7/dist-packages (from kiwisolver>=1.0.1->matplotlib) (4.1.1)\n",
            "Requirement already satisfied: six>=1.5 in /usr/local/lib/python3.7/dist-packages (from python-dateutil>=2.1->matplotlib) (1.15.0)\n",
            "Requirement already satisfied: networkx>=2.0 in /usr/local/lib/python3.7/dist-packages (from scikit-image) (2.6.3)\n",
            "Requirement already satisfied: scipy>=1.0.1 in /usr/local/lib/python3.7/dist-packages (from scikit-image) (1.7.3)\n",
            "Requirement already satisfied: pillow!=7.1.0,!=7.1.1,>=4.3.0 in /usr/local/lib/python3.7/dist-packages (from scikit-image) (7.1.2)\n",
            "Requirement already satisfied: PyWavelets>=1.1.1 in /usr/local/lib/python3.7/dist-packages (from scikit-image) (1.3.0)\n",
            "Requirement already satisfied: tifffile>=2019.7.26 in /usr/local/lib/python3.7/dist-packages (from scikit-image) (2021.11.2)\n",
            "Requirement already satisfied: imageio>=2.3.0 in /usr/local/lib/python3.7/dist-packages (from scikit-image) (2.9.0)\n",
            "Requirement already satisfied: tensorflow-estimator<2.9,>=2.8 in /usr/local/lib/python3.7/dist-packages (from tensorflow) (2.8.0)\n",
            "Requirement already satisfied: wrapt>=1.11.0 in /usr/local/lib/python3.7/dist-packages (from tensorflow) (1.14.1)\n",
            "Requirement already satisfied: absl-py>=0.4.0 in /usr/local/lib/python3.7/dist-packages (from tensorflow) (1.2.0)\n",
            "Requirement already satisfied: termcolor>=1.1.0 in /usr/local/lib/python3.7/dist-packages (from tensorflow) (1.1.0)\n",
            "Requirement already satisfied: opt-einsum>=2.3.2 in /usr/local/lib/python3.7/dist-packages (from tensorflow) (3.3.0)\n",
            "Requirement already satisfied: grpcio<2.0,>=1.24.3 in /usr/local/lib/python3.7/dist-packages (from tensorflow) (1.48.1)\n",
            "Requirement already satisfied: tensorflow-io-gcs-filesystem>=0.23.1 in /usr/local/lib/python3.7/dist-packages (from tensorflow) (0.26.0)\n",
            "Requirement already satisfied: protobuf<3.20,>=3.9.2 in /usr/local/lib/python3.7/dist-packages (from tensorflow) (3.17.3)\n",
            "Requirement already satisfied: tensorboard<2.9,>=2.8 in /usr/local/lib/python3.7/dist-packages (from tensorflow) (2.8.0)\n",
            "Requirement already satisfied: astunparse>=1.6.0 in /usr/local/lib/python3.7/dist-packages (from tensorflow) (1.6.3)\n",
            "Requirement already satisfied: gast>=0.2.1 in /usr/local/lib/python3.7/dist-packages (from tensorflow) (0.5.3)\n",
            "Requirement already satisfied: flatbuffers>=1.12 in /usr/local/lib/python3.7/dist-packages (from tensorflow) (2.0.7)\n",
            "Requirement already satisfied: keras-preprocessing>=1.1.1 in /usr/local/lib/python3.7/dist-packages (from tensorflow) (1.1.2)\n",
            "Requirement already satisfied: setuptools in /usr/local/lib/python3.7/dist-packages (from tensorflow) (57.4.0)\n",
            "Requirement already satisfied: h5py>=2.9.0 in /usr/local/lib/python3.7/dist-packages (from tensorflow) (3.1.0)\n",
            "Requirement already satisfied: google-pasta>=0.1.1 in /usr/local/lib/python3.7/dist-packages (from tensorflow) (0.2.0)\n",
            "Requirement already satisfied: libclang>=9.0.1 in /usr/local/lib/python3.7/dist-packages (from tensorflow) (14.0.6)\n",
            "Requirement already satisfied: wheel<1.0,>=0.23.0 in /usr/local/lib/python3.7/dist-packages (from astunparse>=1.6.0->tensorflow) (0.37.1)\n",
            "Requirement already satisfied: cached-property in /usr/local/lib/python3.7/dist-packages (from h5py>=2.9.0->tensorflow) (1.5.2)\n",
            "Requirement already satisfied: google-auth<3,>=1.6.3 in /usr/local/lib/python3.7/dist-packages (from tensorboard<2.9,>=2.8->tensorflow) (1.35.0)\n",
            "Requirement already satisfied: google-auth-oauthlib<0.5,>=0.4.1 in /usr/local/lib/python3.7/dist-packages (from tensorboard<2.9,>=2.8->tensorflow) (0.4.6)\n",
            "Requirement already satisfied: requests<3,>=2.21.0 in /usr/local/lib/python3.7/dist-packages (from tensorboard<2.9,>=2.8->tensorflow) (2.23.0)\n",
            "Requirement already satisfied: tensorboard-plugin-wit>=1.6.0 in /usr/local/lib/python3.7/dist-packages (from tensorboard<2.9,>=2.8->tensorflow) (1.8.1)\n",
            "Requirement already satisfied: markdown>=2.6.8 in /usr/local/lib/python3.7/dist-packages (from tensorboard<2.9,>=2.8->tensorflow) (3.4.1)\n",
            "Requirement already satisfied: tensorboard-data-server<0.7.0,>=0.6.0 in /usr/local/lib/python3.7/dist-packages (from tensorboard<2.9,>=2.8->tensorflow) (0.6.1)\n",
            "Requirement already satisfied: werkzeug>=0.11.15 in /usr/local/lib/python3.7/dist-packages (from tensorboard<2.9,>=2.8->tensorflow) (1.0.1)\n",
            "Requirement already satisfied: pyasn1-modules>=0.2.1 in /usr/local/lib/python3.7/dist-packages (from google-auth<3,>=1.6.3->tensorboard<2.9,>=2.8->tensorflow) (0.2.8)\n",
            "Requirement already satisfied: cachetools<5.0,>=2.0.0 in /usr/local/lib/python3.7/dist-packages (from google-auth<3,>=1.6.3->tensorboard<2.9,>=2.8->tensorflow) (4.2.4)\n",
            "Requirement already satisfied: rsa<5,>=3.1.4 in /usr/local/lib/python3.7/dist-packages (from google-auth<3,>=1.6.3->tensorboard<2.9,>=2.8->tensorflow) (4.9)\n",
            "Requirement already satisfied: requests-oauthlib>=0.7.0 in /usr/local/lib/python3.7/dist-packages (from google-auth-oauthlib<0.5,>=0.4.1->tensorboard<2.9,>=2.8->tensorflow) (1.3.1)\n",
            "Requirement already satisfied: importlib-metadata>=4.4 in /usr/local/lib/python3.7/dist-packages (from markdown>=2.6.8->tensorboard<2.9,>=2.8->tensorflow) (4.12.0)\n",
            "Requirement already satisfied: zipp>=0.5 in /usr/local/lib/python3.7/dist-packages (from importlib-metadata>=4.4->markdown>=2.6.8->tensorboard<2.9,>=2.8->tensorflow) (3.8.1)\n",
            "Requirement already satisfied: pyasn1<0.5.0,>=0.4.6 in /usr/local/lib/python3.7/dist-packages (from pyasn1-modules>=0.2.1->google-auth<3,>=1.6.3->tensorboard<2.9,>=2.8->tensorflow) (0.4.8)\n",
            "Requirement already satisfied: idna<3,>=2.5 in /usr/local/lib/python3.7/dist-packages (from requests<3,>=2.21.0->tensorboard<2.9,>=2.8->tensorflow) (2.10)\n",
            "Requirement already satisfied: certifi>=2017.4.17 in /usr/local/lib/python3.7/dist-packages (from requests<3,>=2.21.0->tensorboard<2.9,>=2.8->tensorflow) (2022.6.15)\n",
            "Requirement already satisfied: urllib3!=1.25.0,!=1.25.1,<1.26,>=1.21.1 in /usr/local/lib/python3.7/dist-packages (from requests<3,>=2.21.0->tensorboard<2.9,>=2.8->tensorflow) (1.24.3)\n",
            "Requirement already satisfied: chardet<4,>=3.0.2 in /usr/local/lib/python3.7/dist-packages (from requests<3,>=2.21.0->tensorboard<2.9,>=2.8->tensorflow) (3.0.4)\n",
            "Requirement already satisfied: oauthlib>=3.0.0 in /usr/local/lib/python3.7/dist-packages (from requests-oauthlib>=0.7.0->google-auth-oauthlib<0.5,>=0.4.1->tensorboard<2.9,>=2.8->tensorflow) (3.2.0)\n"
          ]
        }
      ],
      "source": [
        "%pip install opencv-python matplotlib scikit-image tensorflow keras"
      ]
    },
    {
      "cell_type": "markdown",
      "metadata": {
        "id": "DLFamf-GlINi"
      },
      "source": [
        "----- Set up the Python environment -----"
      ]
    },
    {
      "cell_type": "code",
      "execution_count": 4,
      "metadata": {
        "id": "THu5PNxnlINj"
      },
      "outputs": [],
      "source": [
        "import numpy as np\n",
        "import matplotlib.pyplot as plt\n",
        "import os\n",
        "import cv2\n",
        "\n",
        "from sklearn.model_selection import train_test_split\n",
        "from sklearn.metrics import confusion_matrix, f1_score, precision_score, recall_score\n",
        "from skimage.transform import resize\n",
        "from skimage.util import random_noise\n",
        "\n",
        "from tensorflow.keras.models import Model, load_model\n",
        "from tensorflow.keras.layers import Input, BatchNormalization, Activation, Dense, Dropout\n",
        "from tensorflow.keras.layers import Lambda, RepeatVector, Reshape\n",
        "from tensorflow.keras.layers import concatenate, add\n",
        "from tensorflow.keras.callbacks import EarlyStopping, ModelCheckpoint, ReduceLROnPlateau, Callback\n",
        "from tensorflow.keras.optimizers import Adam\n",
        "from tensorflow.keras import regularizers\n",
        "from tensorflow.keras.preprocessing.image import ImageDataGenerator, array_to_img, img_to_array, load_img\n",
        "\n",
        "from tensorflow.keras import backend as K"
      ]
    },
    {
      "cell_type": "markdown",
      "metadata": {
        "id": "XL2qmkrClINk"
      },
      "source": [
        "We won't use all of these loss metrics at first, but let's go ahead and define them in case we decide to change our loss function later."
      ]
    },
    {
      "cell_type": "code",
      "execution_count": 5,
      "metadata": {
        "id": "qkMpF_qKlINl"
      },
      "outputs": [],
      "source": [
        "def f1(y_true, y_pred):\n",
        "    def recall(y_true, y_pred):\n",
        "        \"\"\"Recall metric.\n",
        "\n",
        "        Only computes a batch-wise average of recall.\n",
        "\n",
        "        Computes the recall, a metric for multi-label classification of\n",
        "        how many relevant items are selected.\n",
        "        \"\"\"\n",
        "        true_positives = K.sum(K.round(K.clip(y_true * y_pred, 0, 1)))\n",
        "        possible_positives = K.sum(K.round(K.clip(y_true, 0, 1)))\n",
        "        recall = true_positives / (possible_positives + K.epsilon())\n",
        "        return recall\n",
        "\n",
        "    def precision(y_true, y_pred):\n",
        "        \"\"\"Precision metric.\n",
        "\n",
        "        Only computes a batch-wise average of precision.\n",
        "\n",
        "        Computes the precision, a metric for multi-label classification of\n",
        "        how many selected items are relevant.\n",
        "        \"\"\"\n",
        "        true_positives = K.sum(K.round(K.clip(y_true * y_pred, 0, 1)))\n",
        "        predicted_positives = K.sum(K.round(K.clip(y_pred, 0, 1)))\n",
        "        precision = true_positives / (predicted_positives + K.epsilon())\n",
        "        return precision\n",
        "    precision = precision(y_true, y_pred)\n",
        "    recall = recall(y_true, y_pred)\n",
        "    return 2*((precision*recall)/(precision+recall+K.epsilon()))\n",
        "\n",
        "def dice_coef(y_true, y_pred, smooth=1):\n",
        "    \"\"\"\n",
        "    Dice = (2*|X & Y|)/ (|X|+ |Y|)\n",
        "         =  2*sum(|A*B|)/(sum(A^2)+sum(B^2))\n",
        "    ref: https://arxiv.org/pdf/1606.04797v1.pdf\n",
        "    \"\"\"\n",
        "    intersection = K.sum(K.abs(y_true * y_pred), axis=-1)\n",
        "    return (2. * intersection + smooth) / (K.sum(K.square(y_true),-1) + K.sum(K.square(y_pred),-1) + smooth)\n",
        "\n",
        "def dice_coef_loss(y_true, y_pred):\n",
        "    return 1-dice_coef(y_true, y_pred)\n",
        "\n",
        "def jaccard_distance_loss(y_true, y_pred, smooth=100):\n",
        "    \"\"\"\n",
        "    Jaccard = (|X & Y|)/ (|X|+ |Y| - |X & Y|)\n",
        "            = sum(|A*B|)/(sum(|A|)+sum(|B|)-sum(|A*B|))\n",
        "    \n",
        "    The jaccard distance loss is usefull for unbalanced datasets. This has been\n",
        "    shifted so it converges on 0 and is smoothed to avoid exploding or disapearing\n",
        "    gradient.\n",
        "    \n",
        "    Ref: https://en.wikipedia.org/wiki/Jaccard_index\n",
        "    \n",
        "    @url: https://gist.github.com/wassname/f1452b748efcbeb4cb9b1d059dce6f96\n",
        "    @author: wassname\n",
        "    \"\"\"\n",
        "    intersection = K.sum(K.abs(y_true * y_pred), axis=-1)\n",
        "    sum_ = K.sum(K.abs(y_true) + K.abs(y_pred), axis=-1)\n",
        "    jac = (intersection + smooth) / (sum_ - intersection + smooth)\n",
        "    return (1 - jac) * smooth"
      ]
    },
    {
      "cell_type": "markdown",
      "metadata": {
        "id": "aVAbvvxJlINm"
      },
      "source": [
        "----- read in the data ------"
      ]
    },
    {
      "cell_type": "code",
      "execution_count": 6,
      "metadata": {
        "id": "kXfgVg9GlINo"
      },
      "outputs": [],
      "source": [
        "data = np.load('./data_train.npy')\n",
        "labels = np.load('./label_train.npy')\n",
        "data_test = np.load('./data_test.npy')\n",
        "labels_test = np.load('./label_test.npy')"
      ]
    },
    {
      "cell_type": "markdown",
      "metadata": {
        "id": "dJjUJsWNlINp"
      },
      "source": [
        "We need to tell Tensorflow the size of our input image. This will depend on how we resized the images during preprocessing."
      ]
    },
    {
      "cell_type": "code",
      "execution_count": 7,
      "metadata": {
        "id": "cbH_uJFJlINp"
      },
      "outputs": [],
      "source": [
        "nx = 512\n",
        "ny = 512"
      ]
    },
    {
      "cell_type": "markdown",
      "metadata": {
        "id": "CQCcU-h_lINq"
      },
      "source": [
        "To improve learning, let's standardize globally by subtracting the mean and dividing by the standard deviation."
      ]
    },
    {
      "cell_type": "code",
      "execution_count": 8,
      "metadata": {
        "id": "i950-ennlINq"
      },
      "outputs": [],
      "source": [
        "# Standardization across all samples (band specific)\n",
        "data_scaled = np.zeros(np.shape(data))\n",
        "data_normalized = np.zeros((np.shape(data)))\n",
        "for i in range(np.shape(data)[-1]):\n",
        "    data_mean = np.mean(data[:,:,:,i])\n",
        "    data_std = np.std(data[:,:,:,i])\n",
        "    data_scaled[:,:,:,i] = (data[:,:,:,i]-data_mean)/data_std\n"
      ]
    },
    {
      "cell_type": "code",
      "source": [
        "# Keep it in the positve range?\n",
        "data_scaled[:,:,:,i] = np.clip((data_scaled[:,:,:,i]+1.0)/2.0,0,1)\n"
      ],
      "metadata": {
        "id": "rHxKVULGmU32"
      },
      "execution_count": 9,
      "outputs": []
    },
    {
      "cell_type": "code",
      "execution_count": 10,
      "metadata": {
        "id": "yA0cHaUJlINr"
      },
      "outputs": [],
      "source": [
        "# Standardization across all samples (band specific)\n",
        "data_test_scaled = np.zeros(np.shape(data_test))\n",
        "data_test_normalized = np.zeros((np.shape(data_test)))\n",
        "for i in range(np.shape(data_test)[-1]):\n",
        "    data_test_mean = np.mean(data_test[:,:,:,i])\n",
        "    data_test_std = np.std(data_test[:,:,:,i])\n",
        "    data_test_scaled[:,:,:,i] = (data_test[:,:,:,i]-data_test_mean)/data_test_std"
      ]
    },
    {
      "cell_type": "code",
      "execution_count": 11,
      "metadata": {
        "id": "wc-u6fzElINs"
      },
      "outputs": [],
      "source": [
        "x = data_scaled\n",
        "y = labels[:,:,:] # exclude clutter\n",
        "x_test = data_test_scaled\n",
        "y_test = labels_test[:,:,:]"
      ]
    },
    {
      "cell_type": "code",
      "execution_count": 12,
      "metadata": {
        "id": "Gv1eZfhulINs",
        "colab": {
          "base_uri": "https://localhost:8080/",
          "height": 324
        },
        "outputId": "ff023e54-b29b-4906-8fc6-5ce6067d8d74"
      },
      "outputs": [
        {
          "output_type": "stream",
          "name": "stderr",
          "text": [
            "WARNING:matplotlib.image:Clipping input data to the valid range for imshow with RGB data ([0..1] for floats or [0..255] for integers).\n"
          ]
        },
        {
          "output_type": "execute_result",
          "data": {
            "text/plain": [
              "<matplotlib.image.AxesImage at 0x7f7b17ccaf90>"
            ]
          },
          "metadata": {},
          "execution_count": 12
        },
        {
          "output_type": "display_data",
          "data": {
            "text/plain": [
              "<Figure size 432x288 with 1 Axes>"
            ],
            "image/png": "[encoded data removed]"
          },
          "metadata": {
            "needs_background": "light"
          }
        }
      ],
      "source": [
        "# Plot a random image to see if everything looks alright\n",
        "plt.imshow(x[15])"
      ]
    },
    {
      "cell_type": "markdown",
      "metadata": {
        "id": "B2tT_AeslINt"
      },
      "source": [
        "Now that we have our data and labels as we want them, we can split our dataset into a portion for training and a portion for validation."
      ]
    },
    {
      "cell_type": "code",
      "execution_count": 13,
      "metadata": {
        "id": "NvreIhrmlINt"
      },
      "outputs": [],
      "source": [
        "x_train, x_val, y_train, y_val = train_test_split(x, y, test_size=0.2, shuffle=True, random_state=1234)"
      ]
    },
    {
      "cell_type": "markdown",
      "metadata": {
        "id": "I2-QuGtzlINu"
      },
      "source": [
        "We can further augment our training data by introducing data augmentations where we flip the images in various ways, add noise, etc."
      ]
    },
    {
      "cell_type": "code",
      "execution_count": 14,
      "metadata": {
        "id": "Gqv_6tMYlINu"
      },
      "outputs": [],
      "source": [
        "# Data augmentation on just the training data\n",
        "## Image Augmentation\n",
        "# Vertical Image\n",
        "Vx = [np.flip(x, axis=1) for x in x_train]\n",
        "Vy = [np.flip(x, axis=1) for x in y_train]\n",
        "\n",
        "# Horizontal Image\n",
        "Hx = [np.flip(x, axis=2) for x in x_train]\n",
        "Hy = [np.flip(x, axis=2) for x in y_train]\n",
        "\n",
        "# Horizontal Vertical Image\n",
        "HVx = [np.flip(x, axis=2) for x in Vx]\n",
        "HVy = [np.flip(x, axis=2) for x in Vy]\n",
        "\n",
        "# Appending the augmented image and mask to the main dataset.\n",
        "x_train = np.append(x_train, Vx, axis=0)\n",
        "y_train = np.append(y_train, Vy, axis=0)\n",
        "\n",
        "x_train = np.append(x_train, Hx, axis=0)\n",
        "y_train = np.append(y_train, Hy, axis=0)\n",
        "\n",
        "x_train = np.append(x_train, HVx, axis=0)\n",
        "y_train = np.append(y_train, HVy, axis=0)\n"
      ]
    },
    {
      "cell_type": "markdown",
      "metadata": {
        "id": "5FciPP8ZlINu"
      },
      "source": [
        "TASK 1: What kind of additional augmentation techniques could we use?"
      ]
    },
    {
      "cell_type": "markdown",
      "metadata": {
        "id": "dR1ceTGnlINv"
      },
      "source": [
        "----- Define the neural network -----"
      ]
    },
    {
      "cell_type": "code",
      "execution_count": 15,
      "metadata": {
        "id": "XpxxvB4plINv"
      },
      "outputs": [],
      "source": [
        "# We need some additional layers already pre-defined in Keras\n",
        "from tensorflow.keras.layers import ( \n",
        "        BatchNormalization, Conv2D, Conv2DTranspose,\n",
        "        MaxPooling2D, UpSampling2D, Input,\n",
        "        concatenate\n",
        "    )"
      ]
    },
    {
      "cell_type": "code",
      "execution_count": 16,
      "metadata": {
        "id": "jsO6qbC3lINw"
      },
      "outputs": [],
      "source": [
        "#https://github.com/karolzak/keras-unet\n",
        "def bn_conv_relu(input, filters, bachnorm_momentum, **conv2d_args):\n",
        "    x = BatchNormalization(momentum=bachnorm_momentum)(input)\n",
        "    x = Conv2D(filters, **conv2d_args)(x)\n",
        "    return x\n",
        "\n",
        "def bn_upconv_relu(input, filters, bachnorm_momentum, **conv2d_trans_args):\n",
        "    x = BatchNormalization(momentum=bachnorm_momentum)(input)\n",
        "    x = Conv2DTranspose(filters, **conv2d_trans_args)(x)\n",
        "    return x\n",
        "\n",
        "def satellite_unet(\n",
        "    input_shape,\n",
        "    num_classes=1,\n",
        "    output_activation='sigmoid',\n",
        "    num_layers=4):\n",
        "\n",
        "    inputs = Input(input_shape)   \n",
        "    \n",
        "    filters = 64\n",
        "    upconv_filters = 96\n",
        "\n",
        "    kernel_size = (3,3)\n",
        "    activation = 'relu'\n",
        "    strides = (1,1)\n",
        "    padding = 'same'\n",
        "    kernel_initializer = 'he_normal'\n",
        "\n",
        "    conv2d_args = {\n",
        "        'kernel_size':kernel_size,\n",
        "        'activation':activation, \n",
        "        'strides':strides,\n",
        "        'padding':padding,\n",
        "        'kernel_initializer':kernel_initializer\n",
        "        }\n",
        "\n",
        "    conv2d_trans_args = {\n",
        "        'kernel_size':kernel_size,\n",
        "        'activation':activation, \n",
        "        'strides':(2,2),\n",
        "        'padding':padding,\n",
        "        'output_padding':(1,1)\n",
        "        }\n",
        "\n",
        "    bachnorm_momentum = 0.01\n",
        "\n",
        "    pool_size = (2,2)\n",
        "    pool_strides = (2,2)\n",
        "    pool_padding = 'valid'\n",
        "\n",
        "    maxpool2d_args = {\n",
        "        'pool_size':pool_size,\n",
        "        'strides':pool_strides,\n",
        "        'padding':pool_padding,\n",
        "        }\n",
        "    \n",
        "    x = Conv2D(filters, **conv2d_args)(inputs)\n",
        "    c1 = bn_conv_relu(x, filters, bachnorm_momentum, **conv2d_args)    \n",
        "    x = bn_conv_relu(c1, filters, bachnorm_momentum, **conv2d_args)\n",
        "    x = MaxPooling2D(**maxpool2d_args)(x)\n",
        "\n",
        "    down_layers = []\n",
        "\n",
        "    for l in range(num_layers):\n",
        "        x = bn_conv_relu(x, filters, bachnorm_momentum, **conv2d_args)\n",
        "        x = bn_conv_relu(x, filters, bachnorm_momentum, **conv2d_args)\n",
        "        down_layers.append(x)\n",
        "        x = bn_conv_relu(x, filters, bachnorm_momentum, **conv2d_args)\n",
        "        x = MaxPooling2D(**maxpool2d_args)(x)\n",
        "\n",
        "    x = bn_conv_relu(x, filters, bachnorm_momentum, **conv2d_args)\n",
        "    x = bn_conv_relu(x, filters, bachnorm_momentum, **conv2d_args)\n",
        "    x = bn_upconv_relu(x, filters, bachnorm_momentum, **conv2d_trans_args)\n",
        "\n",
        "    for conv in reversed(down_layers):        \n",
        "        x = concatenate([x, conv])  \n",
        "        x = bn_conv_relu(x, upconv_filters, bachnorm_momentum, **conv2d_args)\n",
        "        x = bn_conv_relu(x, filters, bachnorm_momentum, **conv2d_args)\n",
        "        x = bn_upconv_relu(x, filters, bachnorm_momentum, **conv2d_trans_args)\n",
        "\n",
        "    x = concatenate([x, c1])\n",
        "    x = bn_conv_relu(x, upconv_filters, bachnorm_momentum, **conv2d_args)\n",
        "    x = bn_conv_relu(x, filters, bachnorm_momentum, **conv2d_args)\n",
        "           \n",
        "    outputs = Conv2D(num_classes, kernel_size=(1,1), strides=(1,1), activation=output_activation, padding='valid') (x)       \n",
        "    \n",
        "    model = Model(inputs=[inputs], outputs=[outputs])\n",
        "    return model"
      ]
    },
    {
      "cell_type": "markdown",
      "metadata": {
        "id": "f9nFZi97lINw"
      },
      "source": [
        "Let's create a model object, compile it, and summarize it so we can make sure the layers were built the way we wanted them to be built by Keras. We'll also define our optimizer, Adam, and pick a loss function and tracking metrics."
      ]
    },
    {
      "cell_type": "code",
      "execution_count": 17,
      "metadata": {
        "id": "XxqHp3g9lINw",
        "colab": {
          "base_uri": "https://localhost:8080/"
        },
        "outputId": "bc960773-bcc7-43da-87cd-febe872b561d"
      },
      "outputs": [
        {
          "output_type": "stream",
          "name": "stdout",
          "text": [
            "Model: \"model\"\n",
            "__________________________________________________________________________________________________\n",
            " Layer (type)                   Output Shape         Param #     Connected to                     \n",
            "==================================================================================================\n",
            " input_1 (InputLayer)           [(None, 512, 512, 3  0           []                               \n",
            "                                )]                                                                \n",
            "                                                                                                  \n",
            " conv2d (Conv2D)                (None, 512, 512, 64  1792        ['input_1[0][0]']                \n",
            "                                )                                                                 \n",
            "                                                                                                  \n",
            " batch_normalization (BatchNorm  (None, 512, 512, 64  256        ['conv2d[0][0]']                 \n",
            " alization)                     )                                                                 \n",
            "                                                                                                  \n",
            " conv2d_1 (Conv2D)              (None, 512, 512, 64  36928       ['batch_normalization[0][0]']    \n",
            "                                )                                                                 \n",
            "                                                                                                  \n",
            " batch_normalization_1 (BatchNo  (None, 512, 512, 64  256        ['conv2d_1[0][0]']               \n",
            " rmalization)                   )                                                                 \n",
            "                                                                                                  \n",
            " conv2d_2 (Conv2D)              (None, 512, 512, 64  36928       ['batch_normalization_1[0][0]']  \n",
            "                                )                                                                 \n",
            "                                                                                                  \n",
            " max_pooling2d (MaxPooling2D)   (None, 256, 256, 64  0           ['conv2d_2[0][0]']               \n",
            "                                )                                                                 \n",
            "                                                                                                  \n",
            " batch_normalization_2 (BatchNo  (None, 256, 256, 64  256        ['max_pooling2d[0][0]']          \n",
            " rmalization)                   )                                                                 \n",
            "                                                                                                  \n",
            " conv2d_3 (Conv2D)              (None, 256, 256, 64  36928       ['batch_normalization_2[0][0]']  \n",
            "                                )                                                                 \n",
            "                                                                                                  \n",
            " batch_normalization_3 (BatchNo  (None, 256, 256, 64  256        ['conv2d_3[0][0]']               \n",
            " rmalization)                   )                                                                 \n",
            "                                                                                                  \n",
            " conv2d_4 (Conv2D)              (None, 256, 256, 64  36928       ['batch_normalization_3[0][0]']  \n",
            "                                )                                                                 \n",
            "                                                                                                  \n",
            " batch_normalization_4 (BatchNo  (None, 256, 256, 64  256        ['conv2d_4[0][0]']               \n",
            " rmalization)                   )                                                                 \n",
            "                                                                                                  \n",
            " conv2d_5 (Conv2D)              (None, 256, 256, 64  36928       ['batch_normalization_4[0][0]']  \n",
            "                                )                                                                 \n",
            "                                                                                                  \n",
            " max_pooling2d_1 (MaxPooling2D)  (None, 128, 128, 64  0          ['conv2d_5[0][0]']               \n",
            "                                )                                                                 \n",
            "                                                                                                  \n",
            " batch_normalization_5 (BatchNo  (None, 128, 128, 64  256        ['max_pooling2d_1[0][0]']        \n",
            " rmalization)                   )                                                                 \n",
            "                                                                                                  \n",
            " conv2d_6 (Conv2D)              (None, 128, 128, 64  36928       ['batch_normalization_5[0][0]']  \n",
            "                                )                                                                 \n",
            "                                                                                                  \n",
            " batch_normalization_6 (BatchNo  (None, 128, 128, 64  256        ['conv2d_6[0][0]']               \n",
            " rmalization)                   )                                                                 \n",
            "                                                                                                  \n",
            " conv2d_7 (Conv2D)              (None, 128, 128, 64  36928       ['batch_normalization_6[0][0]']  \n",
            "                                )                                                                 \n",
            "                                                                                                  \n",
            " batch_normalization_7 (BatchNo  (None, 128, 128, 64  256        ['conv2d_7[0][0]']               \n",
            " rmalization)                   )                                                                 \n",
            "                                                                                                  \n",
            " conv2d_8 (Conv2D)              (None, 128, 128, 64  36928       ['batch_normalization_7[0][0]']  \n",
            "                                )                                                                 \n",
            "                                                                                                  \n",
            " max_pooling2d_2 (MaxPooling2D)  (None, 64, 64, 64)  0           ['conv2d_8[0][0]']               \n",
            "                                                                                                  \n",
            " batch_normalization_8 (BatchNo  (None, 64, 64, 64)  256         ['max_pooling2d_2[0][0]']        \n",
            " rmalization)                                                                                     \n",
            "                                                                                                  \n",
            " conv2d_9 (Conv2D)              (None, 64, 64, 64)   36928       ['batch_normalization_8[0][0]']  \n",
            "                                                                                                  \n",
            " batch_normalization_9 (BatchNo  (None, 64, 64, 64)  256         ['conv2d_9[0][0]']               \n",
            " rmalization)                                                                                     \n",
            "                                                                                                  \n",
            " conv2d_10 (Conv2D)             (None, 64, 64, 64)   36928       ['batch_normalization_9[0][0]']  \n",
            "                                                                                                  \n",
            " batch_normalization_10 (BatchN  (None, 64, 64, 64)  256         ['conv2d_10[0][0]']              \n",
            " ormalization)                                                                                    \n",
            "                                                                                                  \n",
            " conv2d_11 (Conv2D)             (None, 64, 64, 64)   36928       ['batch_normalization_10[0][0]'] \n",
            "                                                                                                  \n",
            " max_pooling2d_3 (MaxPooling2D)  (None, 32, 32, 64)  0           ['conv2d_11[0][0]']              \n",
            "                                                                                                  \n",
            " batch_normalization_11 (BatchN  (None, 32, 32, 64)  256         ['max_pooling2d_3[0][0]']        \n",
            " ormalization)                                                                                    \n",
            "                                                                                                  \n",
            " conv2d_12 (Conv2D)             (None, 32, 32, 64)   36928       ['batch_normalization_11[0][0]'] \n",
            "                                                                                                  \n",
            " batch_normalization_12 (BatchN  (None, 32, 32, 64)  256         ['conv2d_12[0][0]']              \n",
            " ormalization)                                                                                    \n",
            "                                                                                                  \n",
            " conv2d_13 (Conv2D)             (None, 32, 32, 64)   36928       ['batch_normalization_12[0][0]'] \n",
            "                                                                                                  \n",
            " batch_normalization_13 (BatchN  (None, 32, 32, 64)  256         ['conv2d_13[0][0]']              \n",
            " ormalization)                                                                                    \n",
            "                                                                                                  \n",
            " conv2d_transpose (Conv2DTransp  (None, 64, 64, 64)  36928       ['batch_normalization_13[0][0]'] \n",
            " ose)                                                                                             \n",
            "                                                                                                  \n",
            " concatenate (Concatenate)      (None, 64, 64, 128)  0           ['conv2d_transpose[0][0]',       \n",
            "                                                                  'conv2d_10[0][0]']              \n",
            "                                                                                                  \n",
            " batch_normalization_14 (BatchN  (None, 64, 64, 128)  512        ['concatenate[0][0]']            \n",
            " ormalization)                                                                                    \n",
            "                                                                                                  \n",
            " conv2d_14 (Conv2D)             (None, 64, 64, 96)   110688      ['batch_normalization_14[0][0]'] \n",
            "                                                                                                  \n",
            " batch_normalization_15 (BatchN  (None, 64, 64, 96)  384         ['conv2d_14[0][0]']              \n",
            " ormalization)                                                                                    \n",
            "                                                                                                  \n",
            " conv2d_15 (Conv2D)             (None, 64, 64, 64)   55360       ['batch_normalization_15[0][0]'] \n",
            "                                                                                                  \n",
            " batch_normalization_16 (BatchN  (None, 64, 64, 64)  256         ['conv2d_15[0][0]']              \n",
            " ormalization)                                                                                    \n",
            "                                                                                                  \n",
            " conv2d_transpose_1 (Conv2DTran  (None, 128, 128, 64  36928      ['batch_normalization_16[0][0]'] \n",
            " spose)                         )                                                                 \n",
            "                                                                                                  \n",
            " concatenate_1 (Concatenate)    (None, 128, 128, 12  0           ['conv2d_transpose_1[0][0]',     \n",
            "                                8)                                'conv2d_7[0][0]']               \n",
            "                                                                                                  \n",
            " batch_normalization_17 (BatchN  (None, 128, 128, 12  512        ['concatenate_1[0][0]']          \n",
            " ormalization)                  8)                                                                \n",
            "                                                                                                  \n",
            " conv2d_16 (Conv2D)             (None, 128, 128, 96  110688      ['batch_normalization_17[0][0]'] \n",
            "                                )                                                                 \n",
            "                                                                                                  \n",
            " batch_normalization_18 (BatchN  (None, 128, 128, 96  384        ['conv2d_16[0][0]']              \n",
            " ormalization)                  )                                                                 \n",
            "                                                                                                  \n",
            " conv2d_17 (Conv2D)             (None, 128, 128, 64  55360       ['batch_normalization_18[0][0]'] \n",
            "                                )                                                                 \n",
            "                                                                                                  \n",
            " batch_normalization_19 (BatchN  (None, 128, 128, 64  256        ['conv2d_17[0][0]']              \n",
            " ormalization)                  )                                                                 \n",
            "                                                                                                  \n",
            " conv2d_transpose_2 (Conv2DTran  (None, 256, 256, 64  36928      ['batch_normalization_19[0][0]'] \n",
            " spose)                         )                                                                 \n",
            "                                                                                                  \n",
            " concatenate_2 (Concatenate)    (None, 256, 256, 12  0           ['conv2d_transpose_2[0][0]',     \n",
            "                                8)                                'conv2d_4[0][0]']               \n",
            "                                                                                                  \n",
            " batch_normalization_20 (BatchN  (None, 256, 256, 12  512        ['concatenate_2[0][0]']          \n",
            " ormalization)                  8)                                                                \n",
            "                                                                                                  \n",
            " conv2d_18 (Conv2D)             (None, 256, 256, 96  110688      ['batch_normalization_20[0][0]'] \n",
            "                                )                                                                 \n",
            "                                                                                                  \n",
            " batch_normalization_21 (BatchN  (None, 256, 256, 96  384        ['conv2d_18[0][0]']              \n",
            " ormalization)                  )                                                                 \n",
            "                                                                                                  \n",
            " conv2d_19 (Conv2D)             (None, 256, 256, 64  55360       ['batch_normalization_21[0][0]'] \n",
            "                                )                                                                 \n",
            "                                                                                                  \n",
            " batch_normalization_22 (BatchN  (None, 256, 256, 64  256        ['conv2d_19[0][0]']              \n",
            " ormalization)                  )                                                                 \n",
            "                                                                                                  \n",
            " conv2d_transpose_3 (Conv2DTran  (None, 512, 512, 64  36928      ['batch_normalization_22[0][0]'] \n",
            " spose)                         )                                                                 \n",
            "                                                                                                  \n",
            " concatenate_3 (Concatenate)    (None, 512, 512, 12  0           ['conv2d_transpose_3[0][0]',     \n",
            "                                8)                                'conv2d_1[0][0]']               \n",
            "                                                                                                  \n",
            " batch_normalization_23 (BatchN  (None, 512, 512, 12  512        ['concatenate_3[0][0]']          \n",
            " ormalization)                  8)                                                                \n",
            "                                                                                                  \n",
            " conv2d_20 (Conv2D)             (None, 512, 512, 96  110688      ['batch_normalization_23[0][0]'] \n",
            "                                )                                                                 \n",
            "                                                                                                  \n",
            " batch_normalization_24 (BatchN  (None, 512, 512, 96  384        ['conv2d_20[0][0]']              \n",
            " ormalization)                  )                                                                 \n",
            "                                                                                                  \n",
            " conv2d_21 (Conv2D)             (None, 512, 512, 64  55360       ['batch_normalization_24[0][0]'] \n",
            "                                )                                                                 \n",
            "                                                                                                  \n",
            " conv2d_22 (Conv2D)             (None, 512, 512, 2)  130         ['conv2d_21[0][0]']              \n",
            "                                                                                                  \n",
            "==================================================================================================\n",
            "Total params: 1,301,826\n",
            "Trainable params: 1,297,858\n",
            "Non-trainable params: 3,968\n",
            "__________________________________________________________________________________________________\n"
          ]
        }
      ],
      "source": [
        "model = satellite_unet(input_shape=(512, 512, 3), num_classes=2, output_activation='sigmoid', num_layers=3 )\n",
        "model.compile(optimizer=Adam(), loss='categorical_crossentropy', metrics=[\"categorical_accuracy\", f1])\n",
        "model.summary()"
      ]
    },
    {
      "cell_type": "markdown",
      "metadata": {
        "id": "3f0kLvOHlINx"
      },
      "source": [
        "TASK 2: Do an online search on the terms optimizer (especially Adam), loss function, activation, batch normalization, unet, callback and early stopping. Write down some notes on every term."
      ]
    },
    {
      "cell_type": "markdown",
      "metadata": {
        "id": "cxM6DBiMlINx"
      },
      "source": [
        "----- "
      ]
    },
    {
      "cell_type": "markdown",
      "metadata": {
        "id": "9aRCuUGIlINy"
      },
      "source": [
        "Callbacks instruct Tensorflow how to behave during training. "
      ]
    },
    {
      "cell_type": "code",
      "execution_count": 18,
      "metadata": {
        "id": "Bj5-WXKXlINy"
      },
      "outputs": [],
      "source": [
        "#Let's save our model checkpoints relative to epoch and loss\n",
        "checkpoint_filepath = 'weights.{epoch:02d}-{val_loss:.2f}.h5'"
      ]
    },
    {
      "cell_type": "code",
      "execution_count": 19,
      "metadata": {
        "id": "wiohdAWBlINy"
      },
      "outputs": [],
      "source": [
        "callbacks = [\n",
        "    EarlyStopping(monitor='val_loss', patience=20, verbose=1),\n",
        "    ReduceLROnPlateau(factor=0.1, patience=30, min_lr=0.00001, verbose=1),\n",
        "    ModelCheckpoint(checkpoint_filepath, monitor='val_categorical_accuracy',\n",
        "    mode='max',verbose=1, save_best_only=True, save_weights_only=True)\n",
        "]"
      ]
    },
    {
      "cell_type": "markdown",
      "source": [
        "----- Before Training, Check the system -------"
      ],
      "metadata": {
        "id": "iD4sJTHRp0AC"
      }
    },
    {
      "cell_type": "code",
      "source": [
        "# Storage\n",
        "!free -h"
      ],
      "metadata": {
        "id": "EKG7zebzp5c5",
        "colab": {
          "base_uri": "https://localhost:8080/"
        },
        "outputId": "b242ffb8-9006-4eaa-c245-25af38e17f9a"
      },
      "execution_count": 20,
      "outputs": [
        {
          "output_type": "stream",
          "name": "stdout",
          "text": [
            "              total        used        free      shared  buff/cache   available\n",
            "Mem:            12G        3.3G        6.6G        1.2M        2.8G         10G\n",
            "Swap:            0B          0B          0B\n"
          ]
        }
      ]
    },
    {
      "cell_type": "code",
      "source": [
        "#GPU\n",
        "!nvidia-smi -L"
      ],
      "metadata": {
        "id": "QTzhXVPXp737",
        "colab": {
          "base_uri": "https://localhost:8080/"
        },
        "outputId": "a0296551-1357-4834-db08-917946f2f23a"
      },
      "execution_count": 23,
      "outputs": [
        {
          "output_type": "stream",
          "name": "stdout",
          "text": [
            "NVIDIA-SMI has failed because it couldn't communicate with the NVIDIA driver. Make sure that the latest NVIDIA driver is installed and running.\n",
            "\n"
          ]
        }
      ]
    },
    {
      "cell_type": "markdown",
      "metadata": {
        "id": "bFU9NU54lINy"
      },
      "source": [
        "Now let's train our model!"
      ]
    },
    {
      "cell_type": "code",
      "execution_count": null,
      "metadata": {
        "id": "Xxa60gEClINz",
        "colab": {
          "base_uri": "https://localhost:8080/"
        },
        "outputId": "2226faef-39e6-48ef-9e88-2800f612c8ef"
      },
      "outputs": [
        {
          "output_type": "stream",
          "name": "stdout",
          "text": [
            "Epoch 1/20\n",
            " 2/15 [===>..........................] - ETA: 13:03 - loss: 1.0372 - categorical_accuracy: 0.4814 - f1: 0.5180"
          ]
        }
      ],
      "source": [
        "results = model.fit(x_train, y_train, batch_size= 4, epochs=20, callbacks=callbacks,\n",
        "                   validation_data=(x_val, y_val))"
      ]
    },
    {
      "cell_type": "markdown",
      "metadata": {
        "id": "_X5_yim8lIN0"
      },
      "source": [
        "TASK 3: Get familiar with the terms epochs and batch size. What impact will we have if you change these parameters?"
      ]
    },
    {
      "cell_type": "markdown",
      "metadata": {
        "id": "KhnJzcFwlIN0"
      },
      "source": [
        "------ Check Accuracy -------"
      ]
    },
    {
      "cell_type": "code",
      "execution_count": null,
      "metadata": {
        "id": "PSI3eqBDlIN0"
      },
      "outputs": [],
      "source": [
        "plt.figure(figsize=(8, 8))\n",
        "plt.title(\"Learning curve\")\n",
        "plt.plot(results.history[\"loss\"], label=\"loss\")\n",
        "plt.plot(results.history[\"val_loss\"], label=\"val_loss\")\n",
        "plt.plot(results.history[\"val_categorical_accuracy\"], label=\"val_categorical_accuracy\")\n",
        "plt.plot(results.history[\"categorical_accuracy\"], label=\"categorical_accuracy\")\n",
        "plt.plot( np.argmin(results.history[\"val_loss\"]), np.min(results.history[\"val_loss\"]), marker=\"x\", color=\"r\", label=\"best model\")\n",
        "plt.xlabel(\"Epochs\")\n",
        "plt.ylabel(\"log_loss\")\n",
        "plt.legend();"
      ]
    },
    {
      "cell_type": "markdown",
      "metadata": {
        "id": "EiWozUb3lIN1"
      },
      "source": [
        "-------- Evaluate the trained weights and predict -------"
      ]
    },
    {
      "cell_type": "code",
      "execution_count": null,
      "metadata": {
        "id": "8-nXxT9flIN1"
      },
      "outputs": [],
      "source": [
        "# Load best model\n",
        "#Have a llook at all saved models and take the one with the highest epoch value\n",
        "model.load_weights(\"/content/drive/MyDrive/MET-3/weights.07-0.34.h5\")"
      ]
    },
    {
      "cell_type": "code",
      "source": [
        "from google.colab import drive\n",
        "drive.mount('/content/drive')"
      ],
      "metadata": {
        "id": "siudLjHdI6PB"
      },
      "execution_count": null,
      "outputs": []
    },
    {
      "cell_type": "code",
      "execution_count": null,
      "metadata": {
        "id": "C4BBvktrlIN2"
      },
      "outputs": [],
      "source": [
        "# Evaluate on test set\n",
        "eval = model.evaluate(x_test, y_test)\n",
        "print('Test loss:', eval[0])\n",
        "print('Test accuracy:', eval[1])"
      ]
    },
    {
      "cell_type": "code",
      "execution_count": null,
      "metadata": {
        "id": "8d6slgNulIN2"
      },
      "outputs": [],
      "source": [
        "# Predict on train, val and test\n",
        "preds_train = model.predict(x_train[0:10], verbose=1)\n",
        "preds_val = model.predict(x_val, verbose=1)\n",
        "preds_test = model.predict(x_test, verbose=1)"
      ]
    },
    {
      "cell_type": "code",
      "execution_count": null,
      "metadata": {
        "id": "-lXqfocolIN3"
      },
      "outputs": [],
      "source": [
        "# Threshold prediction probabilities\n",
        "preds_train_t = (preds_train > 0.5).astype(np.uint8)\n",
        "preds_val_t = (preds_val > 0.5).astype(np.uint8)\n",
        "preds_test_t = (preds_test > 0.5).astype(np.uint8)"
      ]
    },
    {
      "cell_type": "markdown",
      "metadata": {
        "id": "C8gmWVHQlIN3"
      },
      "source": [
        "--------- Plot Results --------"
      ]
    },
    {
      "cell_type": "code",
      "execution_count": null,
      "metadata": {
        "id": "1Rw3bezwlIN3"
      },
      "outputs": [],
      "source": [
        "def plot_sample_all(X, y, preds, binary_preds, ix=None, filename='Sample.png'):\n",
        "    import matplotlib\n",
        "\n",
        "    matplotlib.rc('xtick', labelsize=20) \n",
        "    matplotlib.rc('ytick', labelsize=20) \n",
        "    if ix is None:\n",
        "        ix = random.randint(0, len(X))\n",
        "\n",
        "    has_mask = y[ix].max() > 0\n",
        "\n",
        "    fig, ax = plt.subplots(3, 2, sharex=True, sharey=True, figsize=(20, 10))\n",
        "    r_band = (X[ix,:,:,0]-np.min(X[ix,:,:,0]))/(np.max(X[ix,:,:,0])-np.min(X[ix,:,:,0]))\n",
        "    g_band = (X[ix,:,:,1]-np.min(X[ix,:,:,1]))/(np.max(X[ix,:,:,1])-np.min(X[ix,:,:,1]))\n",
        "    b_band = (X[ix,:,:,2]-np.min(X[ix,:,:,2]))/(np.max(X[ix,:,:,2])-np.min(X[ix,:,:,2]))\n",
        "    RGB = np.stack((r_band, g_band, b_band), axis=-1)\n",
        "\n",
        "    im0 = ax[0,0].imshow(RGB)\n",
        "    #if has_mask:\n",
        "        #ax[0].contour(y[ix].squeeze(), colors='k', levels=[0.5])\n",
        "\n",
        "    ax[0,0].set_title('Remote Sensing Image', fontsize=30)\n",
        "    \n",
        "        \n",
        "    im1 = ax[0,1].imshow(X[ix,:,:,0].squeeze(), cmap='gray')\n",
        "\n",
        "    ax[0,1].set_title('Green', fontsize=30)\n",
        "    \n",
        "    im2 = ax[1,0].imshow(X[ix,:,:,2].squeeze(), cmap='gray')\n",
        "\n",
        "    ax[1,0].set_title('NIR', fontsize=30)\n",
        "    \n",
        "    total_mask = np.zeros((512, 512, 3))\n",
        "    for i in range(512):\n",
        "        for j in range(512):\n",
        "            # Ocean\n",
        "            if(y[ix,i,j,0]==1):\n",
        "                total_mask[i,j,0]=1\n",
        "                total_mask[i,j,1]=1\n",
        "                total_mask[i,j,2]=1\n",
        "            # Ice\n",
        "            elif(y[ix,i,j,1]==1):\n",
        "                total_mask[i,j,0]=0\n",
        "                total_mask[i,j,1]=0\n",
        "                total_mask[i,j,2]=1\n",
        "\n",
        "\n",
        "                \n",
        "    im3 = ax[1,1].imshow(total_mask)\n",
        "    ax[1,1].set_title('Image Mask', fontsize=30)\n",
        "    \n",
        "    im4 = ax[2,0].imshow(binary_preds[ix,:,:,0].squeeze(), vmin=0, vmax=1)\n",
        "\n",
        "    ax[2,0].set_title('Ocean (Binary)', fontsize=30)\n",
        "    \n",
        "    im5 = ax[2,1].imshow(binary_preds[ix,:,:,1].squeeze(), vmin=0, vmax=1)\n",
        "\n",
        "    ax[2,1].set_title('Ice (Binary)', fontsize=30)\n",
        "    \n",
        "    plt.xticks(fontsize=20)\n",
        "    plt.yticks(fontsize=20)\n",
        "    \n",
        "    plt.tick_params(axis='both', which='major', labelsize=22)\n",
        "    fig.tight_layout();\n",
        "    plt.savefig(filename)"
      ]
    },
    {
      "cell_type": "code",
      "execution_count": null,
      "metadata": {
        "id": "aDKqzNx3lIN4"
      },
      "outputs": [],
      "source": [
        "# Let's see how a prediction on the training data looks like\n",
        "plot_sample_all(x_train, y_train, preds_train, preds_train_t, ix=9, filename='test.png')"
      ]
    },
    {
      "cell_type": "markdown",
      "metadata": {
        "id": "-uFOkK0dlIN4"
      },
      "source": [
        "This looks really good. What's about our test data?"
      ]
    },
    {
      "cell_type": "code",
      "execution_count": null,
      "metadata": {
        "id": "Ag5WEETwlIN5"
      },
      "outputs": [],
      "source": [
        "def plot_sample(X, y, preds, binary_preds, ix=None):\n",
        "    if ix is None:\n",
        "        ix = random.randint(0, len(X))\n",
        "\n",
        "    has_mask = y[ix].max() > 0\n",
        "\n",
        "    fig, ax = plt.subplots(2, 2, sharex=True, sharey=True, figsize=(20, 10))\n",
        "    band = (X[ix,:,:,0]-np.min(X[ix,:,:,0]))/(np.max(X[ix,:,:,0])-np.min(X[ix,:,:,0]))\n",
        "    #print(np.shape(RGB))\n",
        "    im0 = ax[0,0].imshow(band.squeeze(), cmap='gray')\n",
        "    #if has_mask:\n",
        "        #ax[0].contour(y[ix].squeeze(), colors='k', levels=[0.5])\n",
        "    fig.colorbar(im0, ax=ax[0,0], fraction=0.046, pad=0.04)\n",
        "    ax[0,0].set_title('Remote Sensing Image')\n",
        "\n",
        "    im1 = ax[0,1].imshow(y[ix,:,:,1].squeeze(), vmin=0, vmax=1)\n",
        "    ax[0,1].set_title('Lable Glacier')\n",
        "    fig.colorbar(im1, ax=ax[0,1],fraction=0.046, pad=0.04)\n",
        "    \n",
        "    im2 = ax[1,0].imshow(preds[ix,:,:,1].squeeze(), vmin=0, vmax=1)\n",
        "    #if has_mask:\n",
        "        #ax[2].contour(y[ix].squeeze(), colors='k', levels=[0.5])\n",
        "    fig.colorbar(im2, ax=ax[1,0], fraction=0.046, pad=0.04)\n",
        "    ax[1,0].set_title('Ice Predicted')\n",
        "    \n",
        "    im3 = ax[1,1].imshow(binary_preds[ix,:,:,1].squeeze(), vmin=0, vmax=1)\n",
        "    #if has_mask:\n",
        "        #ax[3].contour(y[ix].squeeze(), colors='k', levels=[0.5])\n",
        "    fig.colorbar(im3, ax=ax[1,1], fraction=0.046, pad=0.04)\n",
        "    ax[1,1].set_title('Ice Predicted (Binary)')\n",
        "    fig.tight_layout();"
      ]
    },
    {
      "cell_type": "code",
      "execution_count": null,
      "metadata": {
        "scrolled": false,
        "id": "TA1VSA1qlIN5"
      },
      "outputs": [],
      "source": [
        "# Check if test data looks all right\n",
        "plot_sample(x_test, y_test, preds_test, preds_test_t, ix=1)"
      ]
    },
    {
      "cell_type": "markdown",
      "metadata": {
        "id": "fRphhOdglIN5"
      },
      "source": [
        "That looks not as good....Well, we only trained on very little data and would need more training data for sophisticated results!"
      ]
    },
    {
      "cell_type": "markdown",
      "metadata": {
        "id": "8tT1BEIhlIN6"
      },
      "source": [
        "-------- Accuracy Metrics -------"
      ]
    },
    {
      "cell_type": "code",
      "execution_count": null,
      "metadata": {
        "id": "UmFW6swmlIN6"
      },
      "outputs": [],
      "source": [
        "x_total = np.concatenate((x_train, x_val, x_test), axis=0)\n",
        "y_total = np.concatenate((y_train, y_val, y_test), axis=0)\n",
        "pred_total = np.concatenate((preds_train_t, preds_val_t, preds_test_t), axis=0)"
      ]
    },
    {
      "cell_type": "code",
      "execution_count": null,
      "metadata": {
        "id": "i3n18JK8lIN7"
      },
      "outputs": [],
      "source": [
        "def print_roc_metrics(y_real, y_predict):\n",
        "\n",
        "    c_matrix = confusion_matrix(y_real.ravel(), y_predict.ravel())\n",
        "    f1 = f1_score(y_real.ravel(), y_predict.ravel())\n",
        "    recall = recall_score(y_real.ravel(), y_predict.ravel())\n",
        "    precision = precision_score(y_real.ravel(), y_predict.ravel())\n",
        "    print(\"Confusion matrix:\")\n",
        "    print(c_matrix)\n",
        "    print(\"F1 score: {:.4f}\".format(f1))\n",
        "    print(\"Recall score: {:.4f}\".format(recall))\n",
        "    print(\"Precision score: {:.4f}\".format(precision))"
      ]
    },
    {
      "cell_type": "code",
      "execution_count": null,
      "metadata": {
        "id": "Z-Ahv1aUlIN7"
      },
      "outputs": [],
      "source": [
        "print_roc_metrics(y_val, preds_val_t)"
      ]
    }
  ],
  "metadata": {
    "kernelspec": {
      "display_name": "Python 3",
      "language": "python",
      "name": "python3"
    },
    "language_info": {
      "codemirror_mode": {
        "name": "ipython",
        "version": 3
      },
      "file_extension": ".py",
      "mimetype": "text/x-python",
      "name": "python",
      "nbconvert_exporter": "python",
      "pygments_lexer": "ipython3",
      "version": "3.8.5"
    },
    "colab": {
      "provenance": [],
      "collapsed_sections": []
    },
    "accelerator": "GPU"
  },
  "nbformat": 4,
  "nbformat_minor": 0
}