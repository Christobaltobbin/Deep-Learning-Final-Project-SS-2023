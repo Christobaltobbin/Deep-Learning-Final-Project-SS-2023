{
  "cells": [
    {
      "cell_type": "markdown",
      "metadata": {
        "id": "hfz_gA0qihc6"
      },
      "source": [
        "## Data Preparation"
      ]
    },
    {
      "cell_type": "markdown",
      "metadata": {
        "id": "C0kI2vO2lzfF"
      },
      "source": [
        "To access our data in Colab"
      ]
    },
    {
      "cell_type": "code",
      "execution_count": null,
      "metadata": {
        "id": "kFZCplq4ihdB"
      },
      "outputs": [],
      "source": [
        "#import colab package and mount you accounts associated google drive\n",
        "from google.colab import drive\n",
        "drive.mount('/content/drive')\n",
        "\n",
        "%cd /content/drive/MyDrive/Data"
      ]
    },
    {
      "cell_type": "markdown",
      "metadata": {
        "id": "tOc2Ok9nmTfV"
      },
      "source": [
        "Set up the python environment\n",
        "\n",
        "Install and load all the necessary packages and libraries"
      ]
    },
    {
      "cell_type": "code",
      "execution_count": null,
      "metadata": {
        "id": "T0zxH3w5lcZM"
      },
      "outputs": [],
      "source": [
        "#Install all packages\n",
        "%pip install opencv-python tifffile scikit-image rasterio scipy imagecodecs"
      ]
    },
    {
      "cell_type": "code",
      "execution_count": null,
      "metadata": {
        "id": "E4QDUnZQihdC"
      },
      "outputs": [],
      "source": [
        "import cv2\n",
        "import os\n",
        "import tifffile\n",
        "import numpy as np\n",
        "import matplotlib.pyplot as plt\n",
        "import glob\n",
        "from skimage.transform import resize\n",
        "import rasterio\n",
        "from rasterio.plot import show\n",
        "import scipy\n",
        "import imagecodecs"
      ]
    },
    {
      "cell_type": "markdown",
      "metadata": {
        "id": "Qk5I4ofNmsvL"
      },
      "source": [
        "Load the scenes and masks into colab\n",
        "\n",
        "\n"
      ]
    },
    {
      "cell_type": "code",
      "execution_count": null,
      "metadata": {
        "id": "CnTeXZJgihdE"
      },
      "outputs": [],
      "source": [
        "#Load the scenes\n",
        "top_train_list = glob.glob('./scenes/*.tif')\n",
        "top_train_list = np.sort(top_train_list)\n",
        "print(top_train_list)"
      ]
    },
    {
      "cell_type": "code",
      "execution_count": null,
      "metadata": {
        "id": "lv3GDtGkihdG"
      },
      "outputs": [],
      "source": [
        "#Load validation scenes\n",
        "top_test_list = glob.glob('./val/*.tif')\n",
        "top_test_list = np.sort(top_test_list)\n",
        "print(top_test_list)"
      ]
    },
    {
      "cell_type": "markdown",
      "metadata": {
        "id": "tieQDSMIihdG"
      },
      "source": [
        "Lets see how our data looks"
      ]
    },
    {
      "cell_type": "code",
      "execution_count": null,
      "metadata": {
        "id": "_aHJBZ5vihdH"
      },
      "outputs": [],
      "source": [
        "#Let us visualize one of the images\n",
        "src = rasterio.open('./scenes/T19XEG_20210926T180019_B01.tif')\n",
        "img0 = show(src.read(1),transform=src.transform, cmap='gray')"
      ]
    },
    {
      "cell_type": "markdown",
      "metadata": {
        "id": "as9ZRR2wp0dR"
      },
      "source": [
        "Reshaping parameters and directories"
      ]
    },
    {
      "cell_type": "code",
      "execution_count": null,
      "metadata": {
        "id": "tRoNUyHyihdJ"
      },
      "outputs": [],
      "source": [
        "#creating empty arrays to store our data\n",
        "imgResize = 512\n",
        "channels = 3\n",
        "\n",
        "# Define the directory where you want to save the individual images\n",
        "save_dir_train = './train_images/'\n",
        "save_dir_test = './test_images/'\n",
        "\n",
        "# Create directories if they don't exist\n",
        "os.makedirs(save_dir_train, exist_ok=True)\n",
        "os.makedirs(save_dir_test, exist_ok=True)\n"
      ]
    },
    {
      "cell_type": "markdown",
      "metadata": {
        "id": "3rOKLIKd1MQM"
      },
      "source": [
        "Save the reshaped files in directory"
      ]
    },
    {
      "cell_type": "code",
      "execution_count": null,
      "metadata": {
        "id": "4-9Bh1dajWzX"
      },
      "outputs": [],
      "source": [
        "for i in range(len(top_train_list)):\n",
        "    img0 = tifffile.imread(top_train_list[i])  # Read the image\n",
        "    img_reshaped = resize(img0, (imgResize, imgResize, channels))  # Resize it\n",
        "\n",
        "    # Local normalization & standardization of the image values\n",
        "    img_norm = np.clip((img_reshaped - img_reshaped.mean()) / (0.5 * img_reshaped.std()), 0, 1)\n",
        "\n",
        "    # Save the individual reshaped image as TIFF\n",
        "    save_path = os.path.join(save_dir_train, f'image_{i}.tif')\n",
        "    tifffile.imwrite(save_path, img_norm)"
      ]
    },
    {
      "cell_type": "code",
      "execution_count": null,
      "metadata": {
        "id": "42CVTl1Km-K8"
      },
      "outputs": [],
      "source": [
        "for i in range(len(top_test_list)):\n",
        "    img0 = tifffile.imread(top_test_list[i])  # Read the image\n",
        "    img_reshaped = resize(img0, (imgResize, imgResize, channels))  # Resize it\n",
        "\n",
        "    # Local normalization & standardization of the image values\n",
        "    img_norm = np.clip((img_reshaped - img_reshaped.mean()) / (0.5 * img_reshaped.std()), 0, 1)\n",
        "\n",
        "    # Save the individual reshaped image as TIFF\n",
        "    save_path = os.path.join(save_dir_test, f'image_{i}.tif')\n",
        "    tifffile.imwrite(save_path, img_norm)"
      ]
    },
    {
      "cell_type": "markdown",
      "metadata": {
        "id": "UmXCmmCUihdM"
      },
      "source": [
        "Let us process the labels"
      ]
    },
    {
      "cell_type": "code",
      "execution_count": null,
      "metadata": {
        "id": "luc28cDCihdM"
      },
      "outputs": [],
      "source": [
        "label_train_list = glob.glob('./masks/*.tif')\n",
        "label_train_list = np.sort(label_train_list)\n",
        "print(label_train_list)"
      ]
    },
    {
      "cell_type": "code",
      "execution_count": null,
      "metadata": {
        "id": "Pug8F4jAihdM"
      },
      "outputs": [],
      "source": [
        "label_test_list = glob.glob('./val/masks/*.tif')\n",
        "label_test_list = np.sort(label_test_list)\n",
        "print(label_test_list)"
      ]
    },
    {
      "cell_type": "code",
      "execution_count": null,
      "metadata": {
        "id": "-wYDfgRPslV6"
      },
      "outputs": [],
      "source": [
        "#Lets view one of the labels\n",
        "img = tifffile.imread(label_train_list[1])\n",
        "plt.imshow(img, cmap='Blues')"
      ]
    },
    {
      "cell_type": "markdown",
      "metadata": {
        "id": "Ld8fCEwcihdO"
      },
      "source": [
        "\n",
        "\n",
        "Let's start reshaping our labels."
      ]
    },
    {
      "cell_type": "code",
      "execution_count": null,
      "metadata": {
        "id": "Vyo5pdbqqAfJ"
      },
      "outputs": [],
      "source": [
        "# ! pip install imagecodecs"
      ]
    },
    {
      "cell_type": "code",
      "execution_count": null,
      "metadata": {
        "id": "hyhphA2euGhN"
      },
      "outputs": [],
      "source": [
        "# Define the directory where you want to save the individual label images\n",
        "label_save_dir_train = './train_label_images/'\n",
        "label_save_dir_test = './test_label_images/'\n",
        "\n",
        "# Create directories if they don't exist\n",
        "os.makedirs(label_save_dir_train, exist_ok=True)\n",
        "os.makedirs(label_save_dir_test, exist_ok=True)"
      ]
    },
    {
      "cell_type": "markdown",
      "metadata": {
        "id": "w0xuSNCM2QNz"
      },
      "source": [
        "Reshape the Labels"
      ]
    },
    {
      "cell_type": "code",
      "execution_count": null,
      "metadata": {
        "id": "Na3GKKbHihdO"
      },
      "outputs": [],
      "source": [
        "import tifffile\n",
        "label_train_total = np.zeros((len(label_train_list), imgResize, imgResize, 1))\n",
        "for i in range(len(label_train_list)):\n",
        "    img = tifffile.imread(label_train_list[i])\n",
        "    #again in our case resizing is not necessary but reshaping\n",
        "    img_reshaped = resize(img, (imgResize, imgResize, 1))\n",
        "    label_train_total[i] = img_reshaped"
      ]
    },
    {
      "cell_type": "code",
      "execution_count": null,
      "metadata": {
        "id": "KR0NvOMmihdO"
      },
      "outputs": [],
      "source": [
        "label_test_total = np.zeros((len(label_test_list), imgResize, imgResize, 1))\n",
        "for i in range(len(label_test_list)):\n",
        "    img = tifffile.imread(label_test_list[i])\n",
        "    img_reshaped = resize(img, (imgResize, imgResize, 1))\n",
        "    label_test_total[i] = img_reshaped"
      ]
    },
    {
      "cell_type": "markdown",
      "metadata": {
        "id": "6-tVV-cztM5q"
      },
      "source": [
        "TASK 3: What are the label values and dimensions before and after reshaping? And why do we need to one-hot-encode our images?"
      ]
    },
    {
      "cell_type": "markdown",
      "metadata": {
        "id": "fLlwGrfM2fGK"
      },
      "source": [
        "Let us encode our Label images"
      ]
    },
    {
      "cell_type": "code",
      "execution_count": null,
      "metadata": {
        "id": "GiAy787HihdP"
      },
      "outputs": [],
      "source": [
        "onehot_label_train_total = np.zeros((len(label_train_list),imgResize,imgResize,2), dtype=float)\n",
        "for k in range(len(label_train_list)):\n",
        "    for i in range(imgResize):\n",
        "        for j in range(imgResize):\n",
        "            # ocean\n",
        "            if label_train_total[k,i,j,0]==0.:\n",
        "                onehot_label_train_total[k,i,j,0]=1\n",
        "            # ice sheet\n",
        "            elif label_train_total[k,i,j,0]>0:\n",
        "                onehot_label_train_total[k,i,j,1]=1"
      ]
    },
    {
      "cell_type": "code",
      "execution_count": null,
      "metadata": {
        "id": "MbnO_eY6ihdP"
      },
      "outputs": [],
      "source": [
        "onehot_label_test_total = np.zeros((len(label_test_list),imgResize,imgResize,2), dtype=float)\n",
        "for k in range(len(label_test_list)):\n",
        "    for i in range(imgResize):\n",
        "        for j in range(imgResize):\n",
        "            # ocean\n",
        "            if label_test_total[k,i,j,0]==0.:\n",
        "                onehot_label_test_total[k,i,j,0]=1\n",
        "            # ice sheet\n",
        "            elif label_test_total[k,i,j,0]> 0:\n",
        "                onehot_label_test_total[k,i,j,1]=1"
      ]
    },
    {
      "cell_type": "markdown",
      "metadata": {
        "id": "YyXupSl8ihdP"
      },
      "source": [
        "Let's check how our one-hot-encoded labels look like"
      ]
    },
    {
      "cell_type": "code",
      "execution_count": null,
      "metadata": {
        "id": "vvsnXStjihdQ"
      },
      "outputs": [],
      "source": [
        "fig, axes = plt.subplots(1, 2, figsize=(10,10))\n",
        "axes[0].imshow(onehot_label_test_total[2,:,:,0], cmap='gray')\n",
        "axes[1].imshow(onehot_label_test_total[2,:,:,1], cmap='gray')\n",
        "print(np.unique(onehot_label_train_total))"
      ]
    },
    {
      "cell_type": "markdown",
      "metadata": {
        "id": "8Jmh2mHIihdQ"
      },
      "source": [
        "Let's save our Labels"
      ]
    },
    {
      "cell_type": "code",
      "execution_count": null,
      "metadata": {
        "id": "XIx2FG9oihdR"
      },
      "outputs": [],
      "source": [
        "np.save('./label_train.npy', onehot_label_train_total)\n",
        "np.save('./label_test.npy', onehot_label_test_total)"
      ]
    }
  ],
  "metadata": {
    "colab": {
      "private_outputs": true,
      "provenance": []
    },
    "kernelspec": {
      "display_name": "Python 3 (ipykernel)",
      "language": "python",
      "name": "python3"
    },
    "language_info": {
      "codemirror_mode": {
        "name": "ipython",
        "version": 3
      },
      "file_extension": ".py",
      "mimetype": "text/x-python",
      "name": "python",
      "nbconvert_exporter": "python",
      "pygments_lexer": "ipython3",
      "version": "3.11.4"
    }
  },
  "nbformat": 4,
  "nbformat_minor": 0
}
